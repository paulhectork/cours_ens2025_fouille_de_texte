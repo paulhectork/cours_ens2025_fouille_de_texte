{
 "cells": [
  {
   "cell_type": "code",
   "execution_count": null,
   "id": "93b80bdf-2ba5-464a-864b-7739a4ff5c99",
   "metadata": {},
   "outputs": [],
   "source": [
    "# la liste à remplir. ce sera une variante de `corpus_lettres` qui ne contiendra pas les métadonnées\n",
    "corpus_liste_contenu = []\n",
    "\n",
    "# le processus: on boucle sur chaque lettre, on retire toutes les lignes de métadonnées, \n",
    "# on ajoute la lettre nettoyée à `corpus_lettres_contenu`\n",
    "\n",
    "for lettre in corpus_liste:\n",
    "    # on transforme chaque lettre en une liste de lignes\n",
    "    lettre = lettre.split(\"\\n\")\n",
    "\n",
    "    # il faut retirer les 6 premières lignes de métadonnées. donc, on ne garde que la tranche `[6:]`, \n",
    "    # ce qui veut dire [6:fin-de-la-lettre]\n",
    "    lettre = lettre[6:]\n",
    "\n",
    "    # notre lettre est maintenant une liste ! il va falloir la transformer \n",
    "    # en string pour la ramener à son état originel.\n",
    "    print(type(lettre))\n",
    "\n",
    "    # ma_string.join(ma_liste), c'est l'inverse de string.split() : on transforme `ma_liste` en string\n",
    "    # en joignant chaque item de la liste avec la chaîne de caractère \"ma_string\". concrètement,\n",
    "    # on transforme la liste de lignes `lettre` en une string avec un saut de ligne entre chaque item.\n",
    "    lettre = \"\\n\".join(lettre)\n",
    "    print(lettre)\n",
    "\n",
    "    # enfin, on utilise `ma_liste.append(mon_element)` pour ajouter `mon_element` à `ma_liste`\n",
    "    corpus_liste_contenu.append(lettre)"
   ]
  }
 ],
 "metadata": {
  "kernelspec": {
   "display_name": "Python 3 (ipykernel)",
   "language": "python",
   "name": "python3"
  },
  "language_info": {
   "codemirror_mode": {
    "name": "ipython",
    "version": 3
   },
   "file_extension": ".py",
   "mimetype": "text/x-python",
   "name": "python",
   "nbconvert_exporter": "python",
   "pygments_lexer": "ipython3",
   "version": "3.8.10"
  }
 },
 "nbformat": 4,
 "nbformat_minor": 5
}
