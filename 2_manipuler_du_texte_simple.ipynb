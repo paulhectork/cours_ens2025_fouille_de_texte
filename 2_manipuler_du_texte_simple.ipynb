{
 "cells": [
  {
   "cell_type": "markdown",
   "id": "c4a03b20-4afb-442f-998e-7d1f70417549",
   "metadata": {},
   "source": [
    "# Traiter un corpus en texte libre"
   ]
  },
  {
   "cell_type": "code",
   "execution_count": null,
   "id": "d10d5b6b-c7cf-4aff-930b-2c3672b068ce",
   "metadata": {},
   "outputs": [],
   "source": [
    "with open(\"in_correspondance_matsutaka_full.txt\", mode=\"r\") as f:\n",
    "    txt = f.read()\n",
    "print(txt)"
   ]
  }
 ],
 "metadata": {
  "kernelspec": {
   "display_name": "Python 3 (ipykernel)",
   "language": "python",
   "name": "python3"
  },
  "language_info": {
   "codemirror_mode": {
    "name": "ipython",
    "version": 3
   },
   "file_extension": ".py",
   "mimetype": "text/x-python",
   "name": "python",
   "nbconvert_exporter": "python",
   "pygments_lexer": "ipython3",
   "version": "3.8.10"
  }
 },
 "nbformat": 4,
 "nbformat_minor": 5
}
