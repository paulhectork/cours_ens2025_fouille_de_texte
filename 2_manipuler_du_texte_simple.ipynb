{
 "cells": [
  {
   "cell_type": "markdown",
   "id": "c4a03b20-4afb-442f-998e-7d1f70417549",
   "metadata": {},
   "source": [
    "# Traiter un corpus en language naturel\n",
    "\n",
    "Après cette rapide présentation de quelques bases du language, on va pouvoir attaquer les choses sérieuses: travailler sur du vrai texte pour faire un traitement \"en masse\": c'est de la **lecture distante**. L'idée de la lecture distante, c'est d'arriver à produire une interprétation d'un texte (ou corpus) sans avoir à le lire, avec des méthodes computationnelles.\n",
    "\n",
    "On va commencer dans ce notebook par quelque chose de très simple:\n",
    "- lire notre fichier texte contenant le corpus\n",
    "- le simplifier rapidement pour faciliter son traitement\n",
    "- établir une liste de tous les mots que contient le texte, et faire compter le nombre d'occurrences de chaque mot.\n",
    "\n",
    "---\n",
    "\n",
    "## Lire les contenus d'un fichier\n",
    "\n",
    "Pour lire un fichier, on lance la commande:"
   ]
  },
  {
   "cell_type": "code",
   "execution_count": null,
   "id": "69f800a8-e4b6-45b8-98b4-73d38bcc7bdf",
   "metadata": {},
   "outputs": [],
   "source": [
    "with open(\"in_correspondance_matsutaka_full.txt\", mode=\"r\", encoding=\"utf-8\") as fichier: \n",
    "    corpus = fichier.read()\n",
    "print(corpus)  # afficher les contenus du fichier"
   ]
  },
  {
   "cell_type": "markdown",
   "id": "3ffa0c65-6188-4bc8-a961-7d4d59cdb35d",
   "metadata": {},
   "source": [
    "Avec ce bloc de code, on voit quelques subtilités supplémentaires de Python. \n",
    "\n",
    "\n",
    "`with open(...) as fichier:` permet d'ouvrir un fichier. Si on décortique, il y a ici 3 nouveautés: \n",
    "- la fonction `open()` pour ouvrir un fichier\n",
    "- la syntaxe `with...as`\n",
    "- le rôle de l'indentation.\n",
    "\n",
    "### `open()`, c'est la fonction Python qu'on utilise pour ouvrir le fichier.\n",
    "\n",
    "Ici, on lui donne 2 arguments:\n",
    "- en premier, le nom du fichier `in_correspondance_matsutaka_full.txt`\n",
    "- en deuxième, un argument nommé `mode` auquel on donne la valeur `\"r\"`. `mode` permet d'indiquer pour quoi on ouvre le fichier:\n",
    "    - `mode=\"r\"` = on ouvre le fichier en lecture\n",
    "    - `mode=\"w\"` = on ouvre le fichier en écriture. Attention, `mode=\"w\"` **efface tous les contenus du fichier qu'on ouvre !**.\n",
    "\n",
    "\n",
    "`open` ouvre le fichier, mais n'affiche pas ses contenus. Pour afficher les contenus, il faut utiliser `fichier.read()` : on appelle la *méthode* `read` sur la variable `fichier`, et donc on affiche ce qui est contenu.\n",
    "- si on `print` juste notre variable `fichier`, on voit que ce qui s'affiche n'est pas le contenu du fichier, mais un object `TextWrapper`.\n",
    "- par analogie, c'est comme quand on reçoit une lettre (ou un colis Vinted): `fichier`, c'est l'emballage, et on doit prendre l'emballage et l'ouvrir pour voir son contenu avec `fichier.read()`"
   ]
  },
  {
   "cell_type": "code",
   "execution_count": null,
   "id": "e16599ff-3ff6-457e-abd0-df9a5476ae1b",
   "metadata": {},
   "outputs": [],
   "source": [
    "with open(\"in_correspondance_matsutaka_full.txt\", mode=\"r\", encoding=\"utf-8\") as fichier:\n",
    "    print(fichier)"
   ]
  },
  {
   "cell_type": "markdown",
   "id": "b5075f27-8d94-46c6-847c-4d75c437f4a8",
   "metadata": {},
   "source": [
    "### La syntaxe `with ... as`\n",
    "\n",
    "Pour faire bref, la syntaxe `with open(...) as fichier` permet d'assigner le résultat de la fonction `open` à la variable `fichier`. C'est donc une variante du code en dessous:"
   ]
  },
  {
   "cell_type": "code",
   "execution_count": null,
   "id": "2335c921-5220-4aa7-b2e3-9e10c67091e3",
   "metadata": {},
   "outputs": [],
   "source": [
    "fichier = open(\"in_correspondance_matsutaka_full.txt\", mode=\"r\", encoding=\"utf-8\")\n",
    "fichier.close()  # si on utilise pas with...as, il faut explicitement fermer le fichier"
   ]
  },
  {
   "cell_type": "markdown",
   "id": "e70eeaf3-f640-4824-b306-23827d7fc253",
   "metadata": {},
   "source": [
    "On préfère `with ... as` quand on travaille avec des fichiers car ça permet de fermer un fichier automatiquement, sans avoir à utiliser `fichier.close()` (et il faut éviter de garder des fichiers ouverts inutilement en Python !)\n",
    "\n",
    "### Indentation\n",
    "\n",
    "Si votre regard est assez acéré, vous aurez remarqué que après `with ... as ... :` on a un retour à la ligne suivi d'une indentation (alinéa après un retour à la ligne). Pourquoi ? \n",
    "\n",
    "En Python, ***l'indentation est signifiante et permet de structurer le code en blocs*** ! \n",
    "\n",
    "Le `:` et l'indentation servent de délimiteurs entre différents blocs de code. Cette indentation doit être utilisée de manière cohérente dans tout votre code. La convention consiste à utiliser 4 espaces comme indentation (certains environnements de développement transforment automatiquement une tabulation en 4 espaces). Cela signifie qu'après avoir utilisé un deux-points (comme dans notre `with...as`), la ligne suivante devrait être indentée de quatre espaces de plus que la ligne précédente.\n",
    "\n",
    "Concrètement, dans le bloc de code ci-dessous, le contenu de la variable `fichier`n'est accessible que dans le bloc indenté après le `with...as`:"
   ]
  },
  {
   "cell_type": "code",
   "execution_count": null,
   "id": "39a79707-ec89-47e5-a781-f19bfc928283",
   "metadata": {},
   "outputs": [],
   "source": [
    "with open(\"in_correspondance_matsutaka_full.txt\", mode=\"r\", encoding=\"utf-8\") as fichier:\n",
    "    # ici, on est dans le bloc, indenté, `fichier.read()` est possible\n",
    "    corpus = fichier.read()\n",
    "    print(corpus[:100])  # [:100] permet d'afficher les 100 premiers caractères de `corpus`\n",
    "\n",
    "# ici, on est sorti du bloc, donc le fichier a été fermé. \n",
    "# `fichier.read()` nous envoie une belle erreur, c'est normal !\n",
    "print(fichier.read())"
   ]
  },
  {
   "cell_type": "markdown",
   "id": "acce2e45-d6e0-436a-9bdc-005fe7d4079c",
   "metadata": {
    "jp-MarkdownHeadingCollapsed": true
   },
   "source": [
    "### Pour résumer\n",
    "\n",
    "On a vu ici comment ouvrir un fichier avec la fonction `open` et lire ses contenus avec `read()`. En plus de ça, on a vu la construction `with ... as`, et surtout, le rôle de l'indentation pour structurer son code en blocs."
   ]
  },
  {
   "cell_type": "markdown",
   "id": "37e9cff0-cb1f-4300-85ff-88f1a8e6f882",
   "metadata": {},
   "source": [
    "---\n",
    "\n",
    "## Le corpus\n",
    "\n",
    "Avant de se lancer dans l'analyse, on regarde ce que contient notre texte. Pour rappel, la variable `corpus` contient les contenus du fichier. "
   ]
  },
  {
   "cell_type": "code",
   "execution_count": null,
   "id": "6128d779-c94e-4b67-a543-bc72ba039ef4",
   "metadata": {},
   "outputs": [],
   "source": [
    "# Exercice: afficher ici les contenus du fichier."
   ]
  },
  {
   "cell_type": "code",
   "execution_count": null,
   "id": "9b39d446-b501-4468-8fbd-0a448127b07c",
   "metadata": {},
   "outputs": [],
   "source": [
    "# la fonction `type` permet de connaître le type d'une valeur\n",
    "print(type(corpus))"
   ]
  },
  {
   "cell_type": "markdown",
   "id": "f6574783-3e1b-427d-9ef5-e39901ceb685",
   "metadata": {},
   "source": [
    "Le corpus utilisé pour cet atelier est un ensemble de correspondances autour de l'achat par Matsukata d'un ensembles d'œuvres européennes, notamment par l'intermédiaire du conservateur de musées Léonce Bénédite, durant la première moitié du XXe siècle. Les originaux sont conservés dans les archives de l'Institut national d'histoire de l'art et du Musée Rodin. La version numérique du corpus a été produite par Léa Saint-Raymond.\n",
    "\n",
    "Comme on le voit, la structure du texte est toujours la même, ce qui est bien pratique pour nous: la première étape de la fouille de texte, c'est de structurer ses données. En effet, en lisant le texte on identifie une structure qui se répète. L'ordinateur, par contre, lit le texte de manière \"bête et méchante\" : caractère par caractère. Par exemple, il ne peut même pas faire la différence entre les différentes lettres de la correspondance.\n",
    "\n",
    "Il va donc falloir transformer notre document pour le rendre sa structure compréhensible par un ordinateur. Une fois que l'ordinateur peut comprendre la structure, alors il peut identifier les différentes lettres de la correspondance, les mots, les phrases... et donc réaliser des opérations sur ces éléments. \n",
    "\n",
    "**Analyser le texte, c'est donc le structurer pour le rendre compréhensible par ordinateur**. Le type de données du texte (`str`) n'est par nature pas structuré, donc ne permet pas par lui-même cette analyse.\n",
    "\n",
    "---\n",
    "\n",
    "## Combien de lettres dans le corpus ?\n",
    "\n",
    "Une première manière d'aborder le corpus, c'est: **combien de lettres contient le corpus** ?\n",
    "\n",
    "Dans le notebook précédent, on a vu la fonction `len()`:"
   ]
  },
  {
   "cell_type": "code",
   "execution_count": null,
   "id": "f1ef61aa-02e1-4cf6-9cd9-10ff0f44d733",
   "metadata": {},
   "outputs": [],
   "source": [
    "print(len(corpus))  # à quoi correspond ce résultat ?"
   ]
  },
  {
   "cell_type": "markdown",
   "id": "d9da6cbe-9a85-414b-8094-3e732c1a63a2",
   "metadata": {},
   "source": [
    "On affiche bien la longueur de `corpus`, mais pas le nombre de lettres. Ce qu'il faudrait, ce serait séparer les lettres entre elles. Et pour ça, le type `str` offre la méthode `split()`"
   ]
  },
  {
   "cell_type": "code",
   "execution_count": null,
   "id": "4d3157f1-866e-47e3-be5b-16cf2b0d033c",
   "metadata": {},
   "outputs": [],
   "source": [
    "print(corpus.split())"
   ]
  },
  {
   "cell_type": "code",
   "execution_count": null,
   "id": "7aaf1139-c94a-4775-90f5-fe927ea41936",
   "metadata": {},
   "outputs": [],
   "source": [
    "print(len(corpus.split()))   # et là, à quoi correspond cette longueur ?"
   ]
  },
  {
   "cell_type": "markdown",
   "id": "81c29088-b8c2-4b6c-8ef6-1213dd47f5f9",
   "metadata": {},
   "source": [
    "Vous l'aurez deviné, `split()` permet de séparer une `str` en une liste d'items. \n",
    "\n",
    "En faisant `corpus.split()`, on scinde le texte à chaque fois qu'il y a un espace. L'espace est le **séparateur par défaut** de la fonction `split()`. Mais on peut aussi utiliser d'autres séparateurs, que l'on indique en argument de la fonction `split()`.\n",
    "\n",
    "En python la chaîne de caractères `\\n` sert à représenter un retour à la ligne (n = abbréviation de *newline*). Si on veut scinder le texte ligne par ligne, on utilise donc:"
   ]
  },
  {
   "cell_type": "code",
   "execution_count": null,
   "id": "1413d849-0c5a-4328-8e98-ab8f3663e0ef",
   "metadata": {},
   "outputs": [],
   "source": [
    "corpus.split(\"\\n\")"
   ]
  },
  {
   "cell_type": "markdown",
   "id": "b4a251ac-1db6-4233-8a5a-572a79404a8e",
   "metadata": {},
   "source": [
    "Pour le moment, on a séparé les différentes lignes du corpus. Mais on veut séparer les différentes lettres du corpus. Or, il existe une ligne vide entre chaque lettre. Une ligne vide correspond à 2 retours à la ligne, soit `\\n\\n`.\n",
    "\n",
    "Comment adapter la fonction `split()` pour séparer le corpus lettre par lettre ?"
   ]
  },
  {
   "cell_type": "code",
   "execution_count": null,
   "id": "92a44138-a648-4192-803a-93f51836d13f",
   "metadata": {},
   "outputs": [],
   "source": [
    "# Exercice: \"splitter\" `corpus` par \"\\n\\n\" pour créer une liste de lettres. \n",
    "# À partir de là, afficher le nombre de lettres."
   ]
  },
  {
   "cell_type": "markdown",
   "id": "2551f455-4b5e-48bf-9914-94008c6bec30",
   "metadata": {},
   "source": [
    "---\n",
    "\n",
    "## Les listes\n",
    "\n",
    "OK, on a réussi à afficher le nombre de lettres dans notre corpus, c'est super ! Maintenant, regardons d'un peu plus près ce que produit `split()`."
   ]
  },
  {
   "cell_type": "code",
   "execution_count": null,
   "id": "99159885-9fac-43ea-a30e-06fb0e844800",
   "metadata": {},
   "outputs": [],
   "source": [
    "print(corpus)"
   ]
  },
  {
   "cell_type": "code",
   "execution_count": null,
   "id": "9c863fb5-8759-4374-a97d-a431258485fc",
   "metadata": {},
   "outputs": [],
   "source": [
    "print(type(corpus))"
   ]
  },
  {
   "cell_type": "code",
   "execution_count": null,
   "id": "5e326b44-50f5-4fa3-bbac-389a7a01ba89",
   "metadata": {},
   "outputs": [],
   "source": [
    "corpus_liste = corpus.split(\"\\n\\n\")\n",
    "print(corpus_liste)"
   ]
  },
  {
   "cell_type": "code",
   "execution_count": null,
   "id": "8ae35905-ea9d-40db-8622-61ac89237548",
   "metadata": {},
   "outputs": [],
   "source": [
    "print(len(corpus_liste))\n",
    "print(type(corpus_liste))"
   ]
  },
  {
   "cell_type": "markdown",
   "id": "16614ea2-5371-4c58-babe-d74a50c75cd1",
   "metadata": {},
   "source": [
    "`split()` transforme notre *chaîne de caractères* `corpus` en une *liste* de lettres. Qu'est-ce que ça veut dire ?\n",
    "\n",
    "Une chaîne de caractères (`str`) n'est pas structurée: l'ordinateur la traite lettre-par-lettre, et donc même par défaut, il ne va pas faire la différence entre des mots, des lignes, ou les différentes lettres de la correspondance. Or, si on se limite à une analyse caractère par caractères, on ne va pas aller bien loin.\n",
    "\n",
    "Par contre, avec `split`, on a réussi à scinder `corpus` en mots, lignes, puis lettres, des unités qui sont plus signifiantes pour nous. Comment ? ***En transformant la `str` en `list`***.\n",
    "\n",
    "### Les listes, une définition rapide \n",
    "\n",
    "Une liste est un type de données qui permet de **stocker une collection de valeurs**.\n",
    "- elle s'écrit **entre crochets `[]`**\n",
    "- les différents items de la liste sont **séparés par des virgules `,`**\n",
    "- une liste peut contenir **n'importe quel type de données**: str, int, autres listes... On peut donc arriver à des structures de données assez complexes.\n",
    "- une liste est **ordonnée et indexée**, c'est-à-dire que:\n",
    "    - les différents items ont une position définie (leur position ne change pas, le 1e, 2e, 3e élément sont toujours à la même place)\n",
    "    - on accède à un item d'une liste à partir de son `index`, c'est à dire de sa position dans la liste.\n",
    "\n",
    "Voilà comment on définit une liste:\n",
    "\n",
    "```python\n",
    "ma_liste = [\"un\", \"deux\", \"trois\"]\n",
    "```\n",
    "\n",
    "### L'idexation d'une liste\n",
    "\n",
    "Comme on l'a dit, une liste est ordonnée et on accède aux différents éléments à partir de leur position dans la liste. On va donc faire quelques manipulations pour voir comment ça marche."
   ]
  },
  {
   "cell_type": "code",
   "execution_count": null,
   "id": "80831054-c7a4-4600-b58a-80ecc9d1543c",
   "metadata": {},
   "outputs": [],
   "source": [
    "# on prend une phrase\n",
    "phrase = \"La saga Twilight, d'abord publiée en France sous le nom de Saga du désir interdit, est une série de romans fantastiques et sentimentaux de Stephenie Meyer publiés entre 2005 et 2020.\"\n",
    "print(phrase)\n",
    "\n",
    "# on la transforme en une liste de mots\n",
    "phrase = phrase.split()\n",
    "print(phrase)\n",
    "print(len(phrase))  # comment interpréter `len` ici ?"
   ]
  },
  {
   "cell_type": "code",
   "execution_count": null,
   "id": "9f6eb7f6-5837-4b4a-bdbd-844e8af7940a",
   "metadata": {},
   "outputs": [],
   "source": [
    "# à quoi accède-t-on ici, dans chaque cas?\n",
    "print(phrase[0])\n",
    "print(phrase[1])\n",
    "print(phrase[-1])"
   ]
  },
  {
   "cell_type": "markdown",
   "id": "d2fe1057-4d64-4cca-a206-98b4e09967a2",
   "metadata": {},
   "source": [
    "Au dessus, on voit la syntaxe de base pour cibler un item d'une liste par son index:\n",
    "\n",
    "```python\n",
    "ma_liste[index]\n",
    "```\n",
    "\n",
    "Quelques spécificités:\n",
    "- **l'indexation commence à 0**: `ma_liste[0]` renvoie le 1er élément de la liste, `ma_liste[1]` renvoie le 2e élément...\n",
    "- **l'indexation négative** permet de récupérer les derniers éléments d'une liste et commence à -1: `ma_liste[-1]` permet d'obtenir le dernier élément de la liste, `ma_liste[-2]` l'avant dernier.\n",
    "- on peut aussi récupérer **une tranche d'items** dans une liste: `ma_liste[2:4]` renvoie le 3e, 4e et 5e items de la liste.\n",
    "    - la syntaxe, c'est: `ma_liste[debut:fin]`\n",
    " \n",
    "Voilà un schéma pour résumer: \n",
    "\n",
    "![Schéma résumant l'indexation de liste](https://static.javatpoint.com/python/images/lists-indexing-and-splitting.png)\n",
    "\n",
    "*Ps: une chaîne de caractère aussi est indéxée ! Mais dans ces cas, le premier item, c'est la première lettre, etc.*\n",
    "\n",
    "Soit une chaîne de caractère `\"Monty Python\"`, l'indexation fonctionne comme ceci:\n",
    "\n",
    "![Schéma résumant l'indexation d'une chaîne de caractère](https://camo.githubusercontent.com/663de286b76da0a6e181998831ca596b67146ecfb2d6589548e87bff5ca8a80e/687474703a2f2f7777772e6e6c746b2e6f72672f696d616765732f737472696e672d736c6963696e672e706e67)"
   ]
  },
  {
   "cell_type": "code",
   "execution_count": null,
   "id": "4aedb84e-dd5b-41ef-9a3e-85cfc6c35177",
   "metadata": {},
   "outputs": [],
   "source": [
    "# Exercices: manipuler nos listes `phrase` et `corpus_liste`\n",
    "# attention, l'indexation commence à 0 !\n",
    "\n",
    "# 1) afficher le 3e item de `phrase`\n",
    "print(\"Résultat de l'exercice 1:\")\n",
    "\n",
    "# 2) afficher entre le 3e et le 5e item de `phrase`\n",
    "print(\"Résultat de l'exercice 2:\")\n",
    "\n",
    "# 3) afficher la 2e lettre de `corpus_liste`\n",
    "print(\"Résultat de l'exercice 3:\")\n",
    "\n",
    "# 4) afficher l'avant dernière lettre de `corpus_liste`\n",
    "print(\"Résultat de l'exercice 4:\")"
   ]
  },
  {
   "cell_type": "markdown",
   "id": "34d3693d-42be-4e4d-923e-ca7d4205e13a",
   "metadata": {},
   "source": [
    "---\n",
    "\n",
    "## Objectif final: écrire un compteur de mots\n",
    "\n",
    "L'objectif du reste du notebook, ça va être d'écrire un compteur de mots. Ça veut dire, prendre tout le corpus et écrire un processus qui permette d'obtenir tous les mots uniques présents dans le corpus, et le nombre de fois que chaque mot apparaît. On va faire ce processus ensemble pour voir comment on peut décomposer une question simple en plusieurs opérations Python.\n",
    "\n",
    "Ce processus comprend les étapes suivantes:\n",
    "1) ouvrir le fichier contenant le corpus et le lire (déjà fait)\n",
    "2) retirer les métadonnées pour ne garder que la source primaire (le contenu des lettres)\n",
    "3) simplifier le corpus pour que le comptage plus qualitatif\n",
    "4) écrire le compteur à proprement parler\n",
    "\n",
    "---\n",
    "\n",
    "## 1. Ouvrir et lire le fichier"
   ]
  },
  {
   "cell_type": "code",
   "execution_count": null,
   "id": "350dec84-5cfc-47d4-b5a3-5a67139568df",
   "metadata": {},
   "outputs": [],
   "source": [
    "# on reprend le code écrit jusqu'à maintenant pour plus de clarté\n",
    "with open(\"in_correspondance_matsutaka_full.txt\", mode=\"r\") as fichier: \n",
    "    corpus = fichier.read()\n",
    "\n",
    "corpus = corpus.replace(\"\\ufeff\", \"\")  # pas bien important\n",
    "corpus_liste = corpus.split(\"\\n\\n\")\n",
    "\n",
    "# on affiche quelques stats\n",
    "print(\"nombre de lettres dans le corpus:\", len(corpus_liste))\n",
    "print(\"\")\n",
    "print(\"première lettre du corpus:\")\n",
    "print(\"\")\n",
    "print(corpus_liste[0])"
   ]
  },
  {
   "cell_type": "markdown",
   "id": "60e209f3-ab49-4e87-ab74-c01f6f1a2912",
   "metadata": {},
   "source": [
    "---\n",
    "\n",
    "## 2. Retirer les métadonnées du corpus\n",
    "\n",
    "On voit ici que nos lettres ont la structure suivante:\n",
    "\n",
    "```\n",
    "Date <...>\n",
    "Expéditeur <...>\n",
    "Lieu d’expédition <...>\n",
    "Destinataire <...>\n",
    "Lieu destination <...>\n",
    "<Titre donné>\n",
    "<Contenu de la lettre>\n",
    "```\n",
    "\n",
    "On veut écrire un compteur de mots, mais pour le moment, on voit que notre corpus **mélange de l'information primaire (le contenu des lettres) et secondaires (leurs métadonnées)**. On ne peut pas faire l'analyse sur ces deux types d'informations à la fois: notre compteur de mots sera seulement fait sur la source primaire. Il va donc falloir supprimer toutes les premières lignes de métadonnées.\n",
    "\n",
    "On va donc partir de `corpus_liste` et enlever les métadonnées de toutes les lettres, et stocker le résultat dans `corpus_liste_contenu`."
   ]
  },
  {
   "cell_type": "code",
   "execution_count": null,
   "id": "1d89cb21-e60a-4b71-934e-5d37ce55423f",
   "metadata": {},
   "outputs": [],
   "source": [
    "# voir la correction dans : correction_extraction_contenu.ipynb\n",
    "\n",
    "# supprimer les métadonnées de corpus lettres\n",
    "\n",
    "# le processus: on va créer une liste intitulée `corpus_liste_contenu` \n",
    "# où chaque item de la liste est une lettre (type `str`), qui ne contienne pas\n",
    "# les 6 premières lignes de métadonnées.\n",
    "\n",
    "corpus_liste_contenu = []Urologue\n",
    "\n",
    "# à nous de jouer\n",
    "\n",
    "# À SUPPRIMER\n",
    "corpus_liste_contenu = [ lettre.split(\"\\n\")[6:] for lettre in corpus_liste ]\n",
    "corpus_liste_contenu = [ \"\\n\".join(line for line in lettre) for lettre in corpus_liste_contenu ]\n",
    "\n",
    "print(len(corpus_liste_contenu))\n",
    "# print(corpus_liste_contenu[0])"
   ]
  },
  {
   "cell_type": "code",
   "execution_count": null,
   "id": "4ed26643-be4c-4025-8586-79120b8f7094",
   "metadata": {},
   "outputs": [],
   "source": [
    "print(corpus_liste_contenu)"
   ]
  },
  {
   "cell_type": "markdown",
   "id": "d2cc00f1-1385-44e3-9cf5-2114d9dde702",
   "metadata": {},
   "source": [
    "---\n",
    "\n",
    "## Les boucles `for`\n",
    "\n",
    "Dans le bloc de code au dessus, on a vu quelque chose de nouveau (encore !) : les boucles `for`. Les boucles, c'est un truc central en Python, et dans plein de langages de programmation. Quand on travaille sur des types complexes, comme des listes, qui peuvent être décomposés en plusieurs items, une boucle `for` permet **d'accéder à tous les items de la liste pour y appliquer une opération**.\n",
    "\n",
    "Par analogie, c'est comme si on voulait peler une botte de carottes: \n",
    "- la botte de carotte est une liste de carottes;\n",
    "- on boucle sur chaque item/carotte de la liste\n",
    "- on effectue une opération: on pèle la carotte\n",
    "\n",
    "La syntaxe est:\n",
    "\n",
    "```python\n",
    "for mon_item in ma_liste:\n",
    "    print(mon_item)  # ici, je mets un print, mais on peut mettre n'importe quelle opération dans une boucle\n",
    "```\n",
    "\n",
    "todo: \n",
    "- simplifier le contenu de corpus_liste_contenu\n",
    "- créer notre compteur"
   ]
  },
  {
   "cell_type": "markdown",
   "id": "c27822c5-075e-4fd8-b074-50b5ceb357cf",
   "metadata": {},
   "source": [
    "---\n",
    "\n",
    "## 3. Simplifier notre corpus\n",
    "\n",
    "`corpus_liste_contenu` contient maintenant une `list` de toutes nos lettres, sans métadonnées. Chaque lettre est une `str`. Il ne reste que la donnée primaire et c'est sur cette donnée qu'on va écrire notre compteur de mots.\n",
    "\n",
    "Il était utile que `corpus_liste` et `corpus_liste_contenu` soit des listes puisque ça nous permettait d'accéder à chaque lettre et donc d'enlever les métadonnées des lettres. Par contre, le compteur de mots sera fait au niveau du corpus, et pas de la lettre. On transforme donc la `list` `corpus_liste_contenu` en `str`."
   ]
  },
  {
   "cell_type": "code",
   "execution_count": null,
   "id": "e4385185-40a2-4ca5-8e01-2b8f852da900",
   "metadata": {},
   "outputs": [],
   "source": [
    "# on se rappelle de ce que fait la méthode `join` ?\n",
    "corpus_contenu = \"\\n\\n\".join(lettre for lettre in corpus_liste_contenu)\n",
    "\n",
    "print(corpus_contenu)"
   ]
  },
  {
   "cell_type": "code",
   "execution_count": null,
   "id": "ade1d892-23ba-48aa-a1f1-c1c2299f7aa2",
   "metadata": {},
   "outputs": [],
   "source": [
    "print(type(corpus_contenu))"
   ]
  },
  {
   "cell_type": "markdown",
   "id": "bc06d86e-f034-4990-b904-ce1f04142bff",
   "metadata": {},
   "source": [
    "On peut commencer à simplifier !\n",
    "\n",
    "Simplifier du texte, à la base, c'est simplement faire du \"chercher-remplacer\" en masse. Fort heureusement, Python incorpore de chouettes fonctions pour le traitement de chaînes de caractères.\n",
    "Ici, on va en utiliser deux:\n",
    "- `lower()`, qui convertit le texte en minuscule\n",
    "- `replace()`, qui remplace une chaîne de caractère par une autre."
   ]
  },
  {
   "cell_type": "code",
   "execution_count": null,
   "id": "fad891fb-4f5e-485d-a1d2-8fecb2c0926c",
   "metadata": {},
   "outputs": [],
   "source": [
    "corpus_contenu = corpus_contenu.lower()\n",
    "\n",
    "# quelques signes de ponctuation communs dans le texte à supprimer. \n",
    "# il y en a surement d'autres, mais bon avec ça on se sera déjà débasarré de la majorité. \n",
    "caracteres_a_supprimer = [\".\", \",\", \";\", \":\", \"?\", \"!\", \"•\", \"[\", \"]\", \"(\", \")\", \"«\", \"»\", \"*\", \"_\", \"–\"]\n",
    "# qu'est-ce que je fais ici ?\n",
    "for caractere in caracteres_a_supprimer:\n",
    "    corpus_contenu = corpus_contenu.replace(caractere, \"\")"
   ]
  },
  {
   "cell_type": "markdown",
   "id": "33088cd4-6a76-4d9c-8e94-f00967c46d5e",
   "metadata": {},
   "source": [
    "Très bien, on a maintenant notre corpus simplifié. Il n'y a maintenant plus besoin de travailler au niveau de la lettre ou du corpus, mais au niveau du mot. \n",
    "\n",
    "D'abord, on transforme `corpus_contenu` en une liste de tous les mots du corpus. \n",
    "\n",
    "Ensuite, on supprime quelques mots qui reviennent très souvent et qui biaiseront les résultats: \"mon\", \"ma\", \"je\" etc., et tous les mots ne contenant que 1 ou 2 lettres."
   ]
  },
  {
   "cell_type": "code",
   "execution_count": null,
   "id": "b36f8f45-456b-48f0-8069-2a57fd0a94ed",
   "metadata": {},
   "outputs": [],
   "source": [
    "corpus_mots_full = corpus_contenu.split()  # tous les mots du corpus\n",
    "corpus_mots = [] # ici, on ne mettra que les mots qui \n",
    "\n",
    "# le corpus est en français et en anglais ! on met donc des mots des deux langues\n",
    "mots_a_supprimer = [ \"je\", \"tu\", \"il\", \"elle\", \"nous\", \"vous\", \"ils\", \"elles\", \n",
    "                     \"mr\", \"mme\", \"mon\", \"ma\", \"mes\", \"notre\", \"votre\", \"son\", \"sa\", \"des\",\n",
    "                     \"avec\", \"les\", \"aux\", \"est\", \"que\", \"plus\", \"tout\",\n",
    "                     \"and\", \"for\", \"with\", \"mine\", \"yours\", \"his\", \"hers\", \"our\", \"ours\",\n",
    "                     \"their\", \"theirs\", \"the\", \"has\", \"that\", \"all\" ]\n",
    "\n",
    "for mot in corpus_mots_full:\n",
    "    if mot not in mots_a_supprimer and len(mot) >= 3:\n",
    "        corpus_mots.append(mot)\n",
    "\n",
    "print(\"longueur avant nettoyage:\", len(corpus_mots_full)) \n",
    "print(\"longueur après nettoyage:\", len(corpus_mots)) \n",
    "print(corpus_mots[:15])\n",
    "print(corpus_mots[-15:])"
   ]
  },
  {
   "cell_type": "markdown",
   "id": "ebf05366-8d4b-4939-a190-42e3e2a8f3db",
   "metadata": {},
   "source": [
    "On a maintenant une liste de mots (en français et en anglais, en minuscule.\n",
    "\n",
    "On pourrait aller plus loin dans le nettoyage: on pourrait séparer les corpus français et anglais, supprimer les espaces, retirer les noms propres... Il existe des listes de *stop words* qui contiennent tous le mots \"inutiles\" (mots qui servent à la structure plus qu'au contenu), et on pourrait utiliser une liste comme ça plutôt que notre liste faite main dans `mots_a_supprimer`. On ne va pas faire tout ça dans le cadre de ce cours.\n",
    "\n",
    "---\n",
    "\n",
    "## `if` et `else`: les conditions\n",
    "\n",
    "# TODO\n",
    "\n",
    "---\n",
    "\n",
    "## 4. Écrire un compteur\n",
    "\n",
    "Il est maintenant temps d'écrire notre fameux compteur !"
   ]
  },
  {
   "cell_type": "code",
   "execution_count": null,
   "id": "925f1fe9-147a-4ba6-858a-466126ee5ba4",
   "metadata": {},
   "outputs": [],
   "source": [
    "# on a besoin de deux choses pour notre compteur: \n",
    "# d'abord, une liste dédoublonnée de tous les mots de notre corpus.\n",
    "# ensuite, un décompte du nombre d'occurrences pour chaque mot.\n",
    "\n",
    "# expliquer tt ça\n",
    "compteur = {}\n",
    "mots_uniques = set(corpus_mots)\n",
    "\n",
    "for mot in mots_uniques:\n",
    "    compteur[mot] = 0\n",
    "\n",
    "for mot in corpus_mots:\n",
    "    compteur[mot] += 1\n",
    "\n",
    "print(max(list(compteur.values())))"
   ]
  }
 ],
 "metadata": {
  "kernelspec": {
   "display_name": "Python 3 (ipykernel)",
   "language": "python",
   "name": "python3"
  },
  "language_info": {
   "codemirror_mode": {
    "name": "ipython",
    "version": 3
   },
   "file_extension": ".py",
   "mimetype": "text/x-python",
   "name": "python",
   "nbconvert_exporter": "python",
   "pygments_lexer": "ipython3",
   "version": "3.8.10"
  }
 },
 "nbformat": 4,
 "nbformat_minor": 5
}
