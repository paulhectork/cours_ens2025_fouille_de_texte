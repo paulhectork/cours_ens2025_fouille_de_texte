{
 "cells": [
  {
   "cell_type": "markdown",
   "id": "042a1f06-4a87-4549-9495-58eb000d0d29",
   "metadata": {},
   "source": [
    "# Lexique Python"
   ]
  },
  {
   "cell_type": "markdown",
   "id": "94453383-1d21-43b1-83b3-1a6bfa69de31",
   "metadata": {},
   "source": [
    "--- \n",
    "---\n",
    "\n",
    "## L'indentation et les retours à la ligne\n",
    "\n",
    "Les retours à la ligne et l'indentation (le nombre d'espaces avant une ligne de code) servent à **indiquer un bloc de code**.\n",
    "Les seuls délimiteurs sont le **deux-points (`:`)** et **l'indentation** du code. \n",
    "- Cette indentation doit être utilisée de manière **cohérente** dans tout votre code.\n",
    "- La convention consiste à utiliser **4 espaces** comme indentation (certains environnements de développement transforment automatiquement une tabulation en 4 espaces).\n",
    "- Cela signifie qu'après avoir utilisé un deux-points, la ligne suivante devrait être indentée de quatre espaces de plus que la ligne précédente.\n",
    "\n",
    "```python\n",
    "if 5 > 2:\n",
    "  print(\"Five is greater than two!\")\n",
    "```"
   ]
  },
  {
   "cell_type": "markdown",
   "id": "6ff16f36-1308-42f0-a9f8-a2c93ab0249d",
   "metadata": {},
   "source": [
    "---\n",
    "---\n",
    "\n",
    "## Les variables\n",
    "\n",
    "Une variable est un objet auquel on **assigne une/des valeurs**. Pour faire simple, c'est un nom qui permet d'accéder à une valeur. L'assignation se fait avec `=`. La syntaxe est:\n",
    "\n",
    "```python\n",
    "nom_de_variable = \"valeur de la variable\n",
    "```\n",
    "\n",
    "- Une variable peut contenir **tout type de donnée**: integrer, float, string, une autre variable...\n",
    "- **L'assignation** de valeur se fait avec `=`\n",
    "- On peut **assigner la valeur d'une variable à une autre variable**, comme dans l'exemple."
   ]
  },
  {
   "cell_type": "code",
   "execution_count": 12,
   "id": "b205ce53-df80-4338-816f-af08f3b88ecf",
   "metadata": {},
   "outputs": [
    {
     "name": "stdout",
     "output_type": "stream",
     "text": [
      "The Lord of the Flies\n",
      "1 2 True True\n"
     ]
    }
   ],
   "source": [
    "livre = \"The Lord of the Flies\"\n",
    "en_cours_de_lecture = livre\n",
    "print(livre)\n",
    "\n",
    "x = 1\n",
    "y = 2\n",
    "print(x, y, x < y, y==2)"
   ]
  },
  {
   "cell_type": "markdown",
   "id": "74450cf3-9cec-4093-911d-48af1c0fb6e9",
   "metadata": {},
   "source": [
    "---\n",
    "---\n",
    "\n",
    "## Types de données\n",
    "\n",
    "En python, les types de données sont des \"familles\" dans lesquelles on classe nos données. Un type de données définit:\n",
    "- d'un côté la nature des valeurs de la donnée (texte, nombre...)\n",
    "- de l'autre les opérations qu'on peut appliquer à la donnée (multiplications...) et les fonctions qu'on peut lui appliquer\n",
    "- la fonction `type()` permet de connaître le type de données d'une valeur\n",
    "- la fonction `isinstance(ma_valeur, mon_type)` permet de savoir si `ma_valeur` est du type `mon_type`"
   ]
  },
  {
   "cell_type": "code",
   "execution_count": 2,
   "id": "92fae69f-5aa6-4ba9-b532-74f6b1ab176b",
   "metadata": {},
   "outputs": [
    {
     "name": "stdout",
     "output_type": "stream",
     "text": [
      "<class 'str'>\n",
      "c\n",
      "<class 'int'>\n",
      "6.0\n",
      "True\n",
      "False\n"
     ]
    }
   ],
   "source": [
    "texte = \"ceci est un lexique Python\"\n",
    "print(type(texte))\n",
    "print(texte[0])   # les strings permettent d'accéder à certaines parties du texte par l'indexation\n",
    "\n",
    "nombre = 12\n",
    "print(type(nombre))\n",
    "print(nombre / 2)  # les types numéraires (int et float) permettent des divions, mais `texte/2` renverrait une erreur\n",
    "\n",
    "print(isinstance(nombre, int))\n",
    "print(isinstance(nombre, str))"
   ]
  },
  {
   "cell_type": "markdown",
   "id": "bf0df7e2-62c9-4192-ab55-ce18319d283e",
   "metadata": {},
   "source": [
    "---\n",
    "\n",
    "### `int` et `float` : les types numéraires\n",
    "\n",
    "`int`, c'est le type pour les nombres entiers, `float` c'est le type pour les nombres décimaux. Toutes les opérations arithmétiques, de comparaison etc. sont possibles sur ces types."
   ]
  },
  {
   "cell_type": "code",
   "execution_count": 16,
   "id": "acd3c93b-e856-435e-97a6-028d1270fa0f",
   "metadata": {},
   "outputs": [
    {
     "name": "stdout",
     "output_type": "stream",
     "text": [
      "2 3\n",
      "5\n",
      "6\n",
      "0.6666666666666666\n",
      "False\n",
      "True\n"
     ]
    }
   ],
   "source": [
    "x = 2\n",
    "y = 3\n",
    "print(x, y)\n",
    "print(x + y)\n",
    "print(x * y)\n",
    "print(x / y)\n",
    "print(x * y < y + y)\n",
    "print(x * y <= y + y)"
   ]
  },
  {
   "cell_type": "markdown",
   "id": "662ce974-4c2f-41e6-9e9c-2cef5e1b4407",
   "metadata": {},
   "source": [
    "---\n",
    "\n",
    "### `bool`: les booléens\n",
    "\n",
    "Le type booléen permet d'exprimer que quelque chose est vrai ou faux. \n",
    "- `True` et `False` sont les seules valeurs définies\n",
    "- **le résultat d'une comparaison** est toujours un booléen\n",
    "- les booléens sont souvent utilisés avec des **conditions**(`if`, `else`)"
   ]
  },
  {
   "cell_type": "code",
   "execution_count": 24,
   "id": "510e256f-001b-4780-89ba-8270607b38d5",
   "metadata": {},
   "outputs": [
    {
     "name": "stdout",
     "output_type": "stream",
     "text": [
      "2 4\n",
      "True\n",
      "True\n"
     ]
    }
   ],
   "source": [
    "x = 2\n",
    "y = x + x\n",
    "\n",
    "print(x, y)\n",
    "print(y == x * 2)\n",
    "print(y <= x * 3) "
   ]
  },
  {
   "cell_type": "markdown",
   "id": "8f807b08-d7f9-475a-a03f-89002623c6ed",
   "metadata": {},
   "source": [
    "--- \n",
    "\n",
    "### `str`: les chaînes de caractères \n",
    "\n",
    "Elles permettent de stocker du texte et des caractères.\n",
    "- une chaîne de caractère s'écrit entre guillemets simples (`'`), doubles (`\"`) ou triples (`'''`, `\"\"\"`).\n",
    "    - `'` et `\"` sont équivalentes et permettent de définir une chaîne sur une ligne\n",
    "    - `\"\"\"` et `'''` permettent de définir une chaîne de caractère sur plusieurs lignes\n",
    "    - le type de guillemet utilisé au début de la chaîne doit être le même qu'à la fin: `\"bonjour\"` est valide, `\"bonjour'` ne l'est pas.\n",
    "- **`\\n`** est un caractère spécial qui dans une `str` correspond à \"nouvelle ligne\"\n",
    "\n",
    "#### Les `str` sont indexées\n",
    "\n",
    "On peut accéder à un caractère ou plusieurs caractères en fonction de leur position dans la chaîne de caractère\n",
    "- **`len()`** est une fonction qui permet de connaître la longueur d'une chaîne\n",
    "- **`mystring[n]`** permet d'accéder au caractère à la position `n`\n",
    "    - **`n` est un nombre entier (`int`)** positif ou négatif.\n",
    "    - **si `n` est positif**, la numérotation partira du premier caractère en commencant à 0\n",
    "    - **si `n` est négatif**, la numérotation partira du dernier caractère en commencant à -1 (on parcours dans ce cas le texte en partant de la fin.\n",
    "- **`mystring[n:m]`** permet d'accéder à une tranche de caractères entre `n` et `m`.\n",
    "    - **`n` et `m` sont des nombres entiers** positifs ou négatifs.\n",
    "    - **`mystring[:m]`** (on omet le `n`) cible tous les caractères entre 0 et `m`\n",
    "    - **`mystring[n:]`** (on omet le `m`) cible tous les caractères entre `n` et la fin de la chaine\n",
    "\n",
    "#### Quelques opérations possibles\n",
    "\n",
    "Voici quelques opérations courantes:\n",
    "- **`mystring_1 + mystring_2`** permet de **concaténer** les chaînes `mystring_1` et `mystring_2` : la deuxième chaîne de caractères est placée à la fin de la première\n",
    "- **`mystring_2 in mystring_1`** permet de vérifier si la chaîne de caractère `mystring_1` contient `mystring_2`\n",
    "\n",
    "#### Quelques méthodes\n",
    "- **`mystring.lower()`** permet de passer le texte en minuscule\n",
    "- **`mystring.upper()`** permet de passer le texte en majuscule\n",
    "- **`mystring.split()`** permet de scinder une `str` en une liste d'items selon un séparateur (chaque fois qu'il y a le séparateur dans le texte, on crée un nouvel item)\n",
    "    - le séparateur par défaut est `\" \"` (un espace)\n",
    "    - on peut indiquer un autre séparateur entre parenthèses: `mystring.split(\"\\n\")` permet de scinder une chaîne à chaque nouvelle ligne.\n"
   ]
  },
  {
   "cell_type": "code",
   "execution_count": 26,
   "id": "0222a737-5dfe-438e-b783-d332c4283b17",
   "metadata": {},
   "outputs": [
    {
     "name": "stdout",
     "output_type": "stream",
     "text": [
      "10\n",
      "première lettre: t \n",
      "dernière lettre: n\n",
      "TARTEMPION\n",
      "tarte_pion\n",
      "True\n",
      "10 5\n",
      "['to the lighthouse', 'the waves', 'mrs dalloway']\n"
     ]
    }
   ],
   "source": [
    "mystring   = \"tartempion\"\n",
    "mystring_1 = \"tarte\"\n",
    "mystring_2 = \"pion\"\n",
    "\n",
    "print(len(mystring))\n",
    "print(\"première lettre:\", mystring[0], \"\\ndernière lettre:\", mystring[-1])\n",
    "print(mystring.upper())\n",
    "print(mystring_1 + \"_\" + mystring_2)\n",
    "print(mystring_1 in mystring)\n",
    "print(len(mystring), len(mystring_1))\n",
    "\n",
    "mystring = \"\"\"to the lighthouse\n",
    "the waves\n",
    "mrs dalloway\"\"\"\n",
    "print(mystring.split(\"\\n\"))"
   ]
  },
  {
   "cell_type": "markdown",
   "id": "341fbed6-0cf2-4996-8fb6-0fbab7f04981",
   "metadata": {
    "jp-MarkdownHeadingCollapsed": true
   },
   "source": [
    "---\n",
    "### `list`: les listes\n",
    "\n",
    "TODO"
   ]
  },
  {
   "cell_type": "markdown",
   "id": "2ce82bd0-2082-499d-9c0d-a2ba60bbc4ec",
   "metadata": {},
   "source": [
    "---\n",
    "\n",
    "### `dict`: les dictionnaires\n",
    "\n",
    "TODO"
   ]
  },
  {
   "cell_type": "markdown",
   "id": "123cd1aa-b11b-4fd0-b6b8-11db03162ead",
   "metadata": {},
   "source": [
    "---\n",
    "---\n",
    "\n",
    "## Méthodes et fonctions\n",
    "\n",
    "- **Une fonction** est une opération, ou un bloc de code exécutable.\n",
    "      - Elle accepte des paramètres, spécifiés dans ()\n",
    "      - Elle peut s'appliquer à toutes les classes et à tous les objets\n",
    "- **Une méthode** est un cas particulier de fonction\n",
    "    - Elle est **définie pour une classe ou un type de données** ; chaque classe a un ensemble de méthodes qui lui sont propres.\n",
    "      - Elle **s'applique à l'objet spécifié** seulement\n",
    "      - Elle s'écrit `objet.method()`. L'objet est spécifié avant le point, les paramètres sont spécifiés dans ()\n",
    "      - Exemple: `mystring.split()` est une méthode qui s'applique à `mystring`; `split()` ne fonctionne que avec le type de données `str`\n",
    " \n",
    "### Définir une fonction\n",
    "TODO\n",
    "\n",
    "### Quelques fonctions utiles\n",
    "TODO"
   ]
  },
  {
   "cell_type": "markdown",
   "id": "cb6b51a9-0d28-4641-82cf-e9680581935e",
   "metadata": {},
   "source": [
    "---\n",
    "---\n",
    "\n",
    "## `if`, `elif`, `else`: les conditions"
   ]
  },
  {
   "cell_type": "markdown",
   "id": "8a3340af-570d-4857-aedb-c71423282c5b",
   "metadata": {},
   "source": [
    "---\n",
    "---\n",
    "\n",
    "## `for`: les boucles"
   ]
  },
  {
   "cell_type": "markdown",
   "id": "728ccc73-cae5-4ee8-b6b6-f42bdbb3f9da",
   "metadata": {},
   "source": [
    "---\n",
    "---\n",
    "\n",
    "## Opérateurs\n",
    "\n",
    "Un opérateur est un caractère spécial. Placé entre deux valeurs, il permet de réaliser une opération entre ces deux valeurs. Ici, quelques opérateurs communs. Ils ne peuvent pas être appliqués à tous les types de données:\n",
    "\n",
    "### Les opérateurs arithmétiques / arithmetic operators\n",
    "\n",
    "- `+` \tAddition    \t`x + y`\n",
    "- `-` \tSubtraction \t`x - y`\n",
    "- `*` \tMultiplication \t`x * y`\n",
    "- `/` \tDivision    \t`x / y`\n",
    "- `%` \tModulo / Reste d'une division     \t`x % y`\n",
    "- `//` \tFloor division / Division à résultat entier \t`x // y`\n",
    "- `**` \tExponentiation / puissance \t`x ** y`\n",
    "\n",
    "\n",
    "### Les opérateurs d'assignation / assignment operators\n",
    "\n",
    "Le premier opérateur correspond à une simple assignation, tous les autres réalisent une opération et ensuite réassignent.\n",
    "- `=` \téquivaut à \t`x = 5`.\n",
    "- `+=` \téquivaut à \t`x = x + 3` => incrémentation de la variable\n",
    "- `-=` \téquivaut à \t`x = x - 3` => diminution de la variable\n",
    "- `*=` \téquivaut à\t`x = x * 3` => \"fois égal\", mutliplication et assignation\t\n",
    "- `/=` \téquivaut à \t`x = x / 3` => division puis assignation  \t\n",
    "\n",
    "### Les opérateurs de comparaison\n",
    "\n",
    "Les opérateurs de comparaison permettent de comarer deux valeurs\n",
    "- `==` \tégal \t`x == y` \t\n",
    "- `!=` \tnon-equal \t`x != y` \t\n",
    "- `>` \tsupérieur à \t`x > y` \t\n",
    "- `<` \tinférieur à \t`x < y` \t\n",
    "- `>=` \tsupérieur ou égal à \t`x >= y` \t\n",
    "- `<=` \tinférieur ou égal à \t`x <= y`\n",
    "\n",
    "### Les opérateurs logiques\n",
    "\n",
    "Tous les opérateurs logiques retournent un booléen\n",
    "- `and` retourne True si les deux affirmations sont vraies `x < 5 and  x < 10`\n",
    "- `or` retourne True si l'une des affirmations au moins est vraie  `x < 5 or x < 4` \t\n",
    "- `not`retourne False si une affirmation est fausse `not(x < 5 and x < 10)`\n",
    "\n",
    "### Les opérateurs d'identités\n",
    "\n",
    "Les opérateurs d'indentité retorunent un booléen\n",
    "C'est un détail technique, mais `is` et `is not` ne sont pas la même chose que `==` et `!=`. Pour faire simple, on utilise `is` et `is not` seulement pour comparer une valeur à un booléen: `x is True` ou `x is False` \n",
    "- `is` True si les valeurs de gauche et de droite sont le même objet `x is y`\n",
    "- `is not` True si les deux valeurs ne sont pas le même objet `x is not y`\n",
    "\n",
    "### Les opérateurs d'appartenance\n",
    "\n",
    "Les opérateurs d'appartenance retorunent un booléen\n",
    "- `in` retourne True si la valeur de gauche est présente dans celle de droite `x in y`\n",
    "- `not in` retourne True si la valeur de droite n'est pas présente dans celle de gauche `x not in y`\n"
   ]
  }
 ],
 "metadata": {
  "kernelspec": {
   "display_name": "Python 3 (ipykernel)",
   "language": "python",
   "name": "python3"
  },
  "language_info": {
   "codemirror_mode": {
    "name": "ipython",
    "version": 3
   },
   "file_extension": ".py",
   "mimetype": "text/x-python",
   "name": "python",
   "nbconvert_exporter": "python",
   "pygments_lexer": "ipython3",
   "version": "3.8.10"
  }
 },
 "nbformat": 4,
 "nbformat_minor": 5
}
