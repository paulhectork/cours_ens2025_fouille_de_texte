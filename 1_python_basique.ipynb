{
 "cells": [
  {
   "cell_type": "markdown",
   "id": "65833ad8-1f1c-46af-a549-02422fab8891",
   "metadata": {},
   "source": [
    "# Un Python au pas de course\n",
    "\n",
    "Pendant ces deux cours, je vous propose une rapide introduction au language de programmation Python, et ensuite, plus intéressant, une introduction à l'utilisation de Python pour l'analyse de données non-structurées: le \"texte brut\". Au fil des deux cours, on verra:\n",
    "\n",
    "- les bases de la syntaxe Python\n",
    "- les principaux types de données et quelques opérations qui sont possibles avec\n",
    "- la structuration automatique de texte avec Python\n",
    "- la détection de motifs dans le texte et la modification de texte\n",
    "- une introduction à l'analyse du texte par \"lecture distante\" (analyse statistique et stylistique). Si on a le temps, la reconnaissance d'entités nommées pour identifier les personnes et lieux mentionnés dans le corpus.\n",
    "\n",
    "Dans ce notebook, on s'intéresse à quelques bases en Python, qui seront étoffées dans les notebooks suivants.\n",
    "\n",
    "## Introduction: Python, c'est quoi ?"
   ]
  },
  {
   "cell_type": "code",
   "execution_count": null,
   "id": "4b4be26d-3a91-466a-a678-14466a19d24b",
   "metadata": {},
   "outputs": [],
   "source": [
    "# que va-t-il se passer sous vos yeux ébahis ?\n",
    "print(\"hello world!\")"
   ]
  },
  {
   "cell_type": "markdown",
   "id": "8d11e85d-15b7-4f85-a935-45b5f48191ab",
   "metadata": {},
   "source": [
    "La petite fonction `print` est notre meilleure amie puisqu'elle permet d'afficher ce qu'on met entre guillemets (ici `\"hello world!\"`)."
   ]
  },
  {
   "cell_type": "code",
   "execution_count": null,
   "id": "82aaf6df-2cb4-45e6-9ef3-7182b19f04b5",
   "metadata": {},
   "outputs": [],
   "source": [
    "# et ici?\n",
    "print(2)\n",
    "print(2*2)\n",
    "print(2+2)\n",
    "print(2*2 == 2+2)  # et là que se passe t-il ?"
   ]
  },
  {
   "cell_type": "code",
   "execution_count": null,
   "id": "813b28c3-232c-4203-9b94-7163f53e8769",
   "metadata": {},
   "outputs": [],
   "source": [
    "x = 2\n",
    "print(x + 2)"
   ]
  },
  {
   "cell_type": "markdown",
   "id": "4e44eee7-dfc5-446a-b295-924e480224a5",
   "metadata": {},
   "source": [
    "En quelques lignes, on  voit les bases de ce que c'est un language de programmation : **une calculette en mieux**. On prend des données, on fait les manipule, et ensuite on peut comparer des résultats.\n",
    "\n",
    "Plus concrètement, un langage de programmation, c'est un ***langage*** structuré qui permet d'interagir avec un ordinateur. Il définit :\n",
    "- un **vocabulaire** : les mots clés et symboles qu'on utilise pour écrire du code qui ait du sens pour la machine\n",
    "- une **syntaxe** : les règles de grammaire avec lesquels on combine les termes de notre vocabulaire pour écrire quelque chose qui ait du sens\n",
    "- des **types de données** : les valeurs qu'on manipule à un programme sont classées en plusieurs grands groupes (les nombres, le texte...). Ces groupes, ou types de données, définissent ce qui est possible de faire avec les différentes valeurs: on ne peut pas faire avec un nombre ce qu'on peut faire avec du texte."
   ]
  },
  {
   "cell_type": "markdown",
   "id": "511e8bf3-d831-4bfe-8946-88d1b6afe556",
   "metadata": {},
   "source": [
    "---\n",
    "\n",
    "## Les bases du langage \n",
    "\n",
    "Avec les quelques lignes de code au dessus, **on a déjà vu plusieurs bases du langage**.\n",
    "\n",
    "---\n",
    "\n",
    "### Les variables\n",
    "\n",
    "Toujours devoir réécrire toutes ses valeurs, c'est quand même douloureux. En plus, on va souvent vouloir transformer une donnée en lui faisant subir une série d'opérations, et on a donc besoin de pouvoir stocker et réutiliser nos valeurs.\n",
    "\n",
    "Pour ça on créée des **variables, qui permettent de stockder nos valeurs**. En appelant notre variable, on pourra accéder à la valeur, la modifier, la redéfinir !"
   ]
  },
  {
   "cell_type": "code",
   "execution_count": null,
   "id": "b9b3b8e7-665e-4df9-8fce-51b6f16c8d16",
   "metadata": {},
   "outputs": [],
   "source": [
    "x = 1\n",
    "x = x+1  # ici, on redéfinit x comme étant égal à x+1, c'est-à-dire 1+1 => 2.\n",
    "print(x)\n",
    "x += 1  # pour x = x+1 peut être écrit comme ça pour faire plus rapide\n",
    "print(x)"
   ]
  },
  {
   "cell_type": "markdown",
   "id": "491a7e46-4e4f-4877-bbc5-ff31556c4a5a",
   "metadata": {},
   "source": [
    "La syntaxe pour définir une variable est:\n",
    "\n",
    "```python\n",
    "nom_de_variable = <valeur>\n",
    "```\n",
    "\n",
    "Le `=` permet *d'assigner une valeur à une variable*. À gauche, le nom de la variable, à droite, la valeur.\n",
    "\n",
    "Pour nous, une variable, c'est juste **un nom qui permet d'accéder à une valeur**. \n",
    "\n",
    "Comme un carton sur lequel on écrit un nom avant de le ranger dans une cave où il prendra la poussière pendant des années. Le nom n'a pas d'importance pour l'ordinateur, mais IL EST TRÈS IMPORTANT DE DONNER DES NOMS DE VARIABLES QUI ONT DU SENS."
   ]
  },
  {
   "cell_type": "code",
   "execution_count": null,
   "id": "99920c79-bcb1-4029-a4d0-8cea00db5765",
   "metadata": {},
   "outputs": [],
   "source": [
    "# exercice: créer une variable qui s'appelle `y` et qui ait pour valeur trois fois la valeur de `x`"
   ]
  },
  {
   "cell_type": "markdown",
   "id": "70221ee2-2c07-4e13-9714-752254efe5e1",
   "metadata": {},
   "source": [
    "---\n",
    "\n",
    "### Quelques types de données\n",
    "\n",
    "Les types de données, c'est un peu douloureux, mais c'est essentiel car ils définissent les opérations possibles pour nos valeurs: on ne pourra pas faire les mêmes opérations sur un nombre et sur du texte, logiquement.\n",
    "\n",
    "#### ***Les chaînes de caractères (type `str`)***"
   ]
  },
  {
   "cell_type": "code",
   "execution_count": null,
   "id": "b0a70f69-830c-4f4d-9cdf-7ddf48fe7eb8",
   "metadata": {},
   "outputs": [],
   "source": [
    "print(\"hello world!\")"
   ]
  },
  {
   "cell_type": "markdown",
   "id": "aa2772dd-a1f1-4dc2-b1c2-289b11fa8e98",
   "metadata": {},
   "source": [
    "`\"hello world\"`, c'est du texte, et en Python, le texte est **un type de données: les `string`** (ou chaîne de caractère en français). Une chaîne de caractère est écrite entre des guillemets (simples `'` ou doubles `\"`)\n",
    "\n",
    "```python\n",
    "\"ceci est une chaîne de caractères\"\n",
    "'ça aussi tiens'\n",
    "```\n",
    "\n",
    "#### ***Les nombres entiers (type `int`) et décimaux (type `float`)***"
   ]
  },
  {
   "cell_type": "code",
   "execution_count": null,
   "id": "806da640-c2a3-4424-b4aa-c2a041596798",
   "metadata": {},
   "outputs": [],
   "source": [
    "print(2+2)"
   ]
  },
  {
   "cell_type": "markdown",
   "id": "e550f788-ec72-4911-9726-9f65310259db",
   "metadata": {
    "jp-MarkdownHeadingCollapsed": true
   },
   "source": [
    "`2` est une valeur de **type nombre entier** (appelé `int` en Python).\n",
    "\n",
    "Avec des `int`, on peut faire plein de calculs mathématiques avec les signes : \n",
    "- `+` : addition (`2+2`)\n",
    "- `-` : soustraction (`2-2`)\n",
    "- `*` : multiplication (`2*2`)\n",
    "- `/` : division (`2/2`)\n",
    "\n",
    "PS: Les `float` sont un autre type de données pour les nombres décimaux. Un `float` fonctionne exactement comme un `int`. Ils s'écrivent à l'anglo-saxonne avec un `.` à la place de la virgule française : `1.3`, `10.9`..."
   ]
  },
  {
   "cell_type": "code",
   "execution_count": null,
   "id": "4e32fc5c-b4ff-4c1f-9e36-00f0eb771d00",
   "metadata": {},
   "outputs": [],
   "source": [
    "print(2+2 == 2*2)"
   ]
  },
  {
   "cell_type": "markdown",
   "id": "3028a129-854a-4cd7-93ba-ef78c272b2f3",
   "metadata": {},
   "source": [
    "#### ***Les booléens (type `bool`)***\n",
    "\n",
    "Quand on fait `2+2 == 2*2`, on obtient `True` : $2+2$ est bien égal à $2\\times{}2$. \n",
    "\n",
    "Le résultat d'une comparaison est un *booléen*. Ce type de données ne comprend que 2 valeurs prédéfinies: \n",
    "- `True` (quelque chose est vrai)\n",
    "- `False` (quelque chose est faux)"
   ]
  },
  {
   "cell_type": "code",
   "execution_count": null,
   "id": "2fee46dd-9d10-4190-9c7d-3d6bc20432f5",
   "metadata": {},
   "outputs": [],
   "source": [
    "print(2 == 3)"
   ]
  },
  {
   "cell_type": "markdown",
   "id": "dc642da4-3b3e-48b3-8fb5-aa1b30db8a65",
   "metadata": {},
   "source": [
    "---\n",
    "\n",
    "### Les comparaisons\n",
    "\n",
    "`==` permet de comparer deux valeurs pour vérifier qu'elles sont les mêmes.\n",
    "- À l'inverse, `!=` permet de vérifier si deux valeurs sont différentes (`1 != 2`).\n",
    "- Il existe d'autres opérateurs pour comparer deux valeurs\n",
    "    - `<` : inférieur\n",
    "    - `>` : supérieur\n",
    "    - `<=`: inférieur ou égal\n",
    "    - `>=`: supérieur ou égal"
   ]
  },
  {
   "cell_type": "code",
   "execution_count": null,
   "id": "938dddfe-5f5e-402e-9706-eef370cefe80",
   "metadata": {},
   "outputs": [],
   "source": [
    "print(2 != 3)\n",
    "print(2 < 3)\n",
    "print(2 > 3)"
   ]
  },
  {
   "cell_type": "code",
   "execution_count": null,
   "id": "42a8ab6a-bc17-4d8d-ae33-7bda9753b31f",
   "metadata": {},
   "outputs": [],
   "source": [
    "# exercice: créer deux variables, une pour le `2`, l'autre pour le `3`, \n",
    "# et refaire le bloc d'au dessus en remplaçant les valeurs par leurs variables."
   ]
  },
  {
   "cell_type": "markdown",
   "id": "118391f1-7a9d-4edb-999a-59b5a2795bdb",
   "metadata": {},
   "source": [
    "---\n",
    "\n",
    "### Utiliser une fonction\n",
    "\n",
    "Si on revient au tout début, on se rappelle que `print` est une fonction qui affiche ce qui est mis entre parenthèses.\n",
    "\n",
    "```python\n",
    "print(2)\n",
    "```\n",
    "\n",
    "Une fonction, c'est une opération qui peut être utilisée à différents endroits du code. \n",
    "- Comme en maths, elle prend des arguments, effectue des opérations et renvoie un résultat\n",
    "- Elle a **un nom** qui permet d'identifier la fonction: `print`\n",
    "- Les **arguments** sont les données sur lesquelles on applique la fonction. Ici `2` est un argument.\n",
    "\n",
    "**La syntaxe pour utiliser une fonction**, c'est donc: \n",
    "\n",
    "```python\n",
    "nom_de_la_fonction(arguments)\n",
    "``` \n",
    "\n",
    "Lorsqu'une fonction prend plusieurs arguments, les séparer par une virgule.\n",
    "\n",
    "```python\n",
    "print(\"premier argument\", \"deuxième argument\", \"troisième argument\")\n",
    "```"
   ]
  },
  {
   "cell_type": "code",
   "execution_count": null,
   "id": "85130e83-a367-4e66-8a43-c3a2850824ad",
   "metadata": {},
   "outputs": [],
   "source": [
    "# exercice: utiliser print pour afficher `1 2 3 4`"
   ]
  },
  {
   "cell_type": "markdown",
   "id": "76fa864c-b4a6-4f98-a1a9-0ae5e5d9bf62",
   "metadata": {},
   "source": [
    "**Le principe d'une fonction, c'est donc qu'elle encapsule une logique qui peut être réutilisée sur différentes données**. \n",
    "\n",
    "Les fonctions, c'est essentiel en programmation: ça permet d'éviter de réécrire le même code 100 fois; ça permet aussi d'utiliser du code sans avoir à s'occuper de comment ça marche: on a pas besoin de savoir comment fonctionne `print` pour l'utiliser.\n",
    "\n",
    "Certaines fonctions, comme `print` sont prédéfinies, mais on verra ensuite que l'on peut écrire nos propres fonctions.\n",
    "\n",
    "Une autre fonction prédéfinie, c'est `len()` qui permet d'afficher la longueur d'une valeur."
   ]
  },
  {
   "cell_type": "code",
   "execution_count": null,
   "id": "279aa9f1-4b0e-4b9b-accd-fe20a6985d03",
   "metadata": {},
   "outputs": [],
   "source": [
    "print(len(\"hello world\"))  # à quoi correspond le résultat ?"
   ]
  },
  {
   "cell_type": "markdown",
   "id": "8fab7d94-64e4-4f79-ac74-41987316f11f",
   "metadata": {},
   "source": [
    "Attention, `len` ne fonctionne pas sur tous les types de données: certains types n'ont pas de longueur, comme les nombres."
   ]
  },
  {
   "cell_type": "code",
   "execution_count": null,
   "id": "34b6e937-a90e-4621-94f2-7e6fa6c1165e",
   "metadata": {},
   "outputs": [],
   "source": [
    "print(len(2))  # oupsi !"
   ]
  },
  {
   "cell_type": "markdown",
   "id": "c0f3dc9b-4ffa-4f87-9b90-10e54735f286",
   "metadata": {},
   "source": [
    "---\n",
    "\n",
    "Comme n'importe quel langage, pour l'apprendre, il faut le pratiquer: s'habituer à lire du code d'abord pour comprendre la syntaxe, et ensuite, s'habituer à en écrire pour réussir à adapter ses envies les plus folles à la logique de Python. \n",
    "\n",
    "Contrairement au français ou à une autre langue *normale*, **Python ne pardonne rien**. Si on ne respecte pas les règles du language, alors l'ordinateur ne comprend pas ce qu'on veut dire.\n",
    "\n",
    "Par exemple:"
   ]
  },
  {
   "cell_type": "code",
   "execution_count": null,
   "id": "053aca21-35cb-4e20-8ae4-8a92f723d2e0",
   "metadata": {},
   "outputs": [],
   "source": [
    "print(\"oui\" / 2)  # ici, on essaye de diviser \"oui\" par 2, ce qui n'est bien sûr pas possible."
   ]
  },
  {
   "cell_type": "markdown",
   "id": "69f10e70-4844-4e92-b2e6-ebd1f2357dfc",
   "metadata": {},
   "source": [
    "---\n",
    "\n",
    "### Pour finir l'introduction : deux micro-exercices :)\n",
    "\n",
    "#### ***Premier exercice***\n",
    "\n",
    "Définir deux variables, `a` et `b`, qui stockent respectivement les mots `rhododendron` et `clafoutis`. Stocker leur longueur dans deux autres variables et comparer les longueurs. Ensuite, calculer la différence de longueur entre `rhododendron` et `clafoutis`."
   ]
  },
  {
   "cell_type": "code",
   "execution_count": null,
   "id": "655381b5-1a8c-4686-92be-1e8a6bcacae9",
   "metadata": {},
   "outputs": [],
   "source": [
    "# répondre ici au 1er exercice"
   ]
  },
  {
   "cell_type": "markdown",
   "id": "b288afc1-9925-4915-be37-29d8658ee321",
   "metadata": {},
   "source": [
    "#### ***Deuxième exercice***\n",
    "\n",
    "Afficher le nombre de minutes qu'il y a dans une semaine (sachant qu'il y a 60 minutes par heures, 24h/jour, 7j/semaine)"
   ]
  },
  {
   "cell_type": "code",
   "execution_count": null,
   "id": "0fd7deba-e378-4f5f-a689-bac198d071aa",
   "metadata": {},
   "outputs": [],
   "source": [
    "# répondre ici au 2e exercice"
   ]
  },
  {
   "cell_type": "markdown",
   "id": "b6e2a00e-4b5a-463b-aa71-0e99287e13ad",
   "metadata": {},
   "source": [
    "Pour le moment, le ratio prise de tête vs. satisfaction est très déséquilibré. C'est normal, c'est le début ! En plus, on travaille sur des \"fausses\" données. Tout devient plus drôle une fois que l'on travaille sur des vraies données, avec des vraies questions de recherche, ce que l'on va faire à partir du notebook suivant !"
   ]
  }
 ],
 "metadata": {
  "kernelspec": {
   "display_name": "Python 3 (ipykernel)",
   "language": "python",
   "name": "python3"
  },
  "language_info": {
   "codemirror_mode": {
    "name": "ipython",
    "version": 3
   },
   "file_extension": ".py",
   "mimetype": "text/x-python",
   "name": "python",
   "nbconvert_exporter": "python",
   "pygments_lexer": "ipython3",
   "version": "3.8.10"
  }
 },
 "nbformat": 4,
 "nbformat_minor": 5
}
