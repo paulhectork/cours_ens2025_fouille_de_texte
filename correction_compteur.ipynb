{
 "cells": [
  {
   "cell_type": "code",
   "execution_count": null,
   "id": "135d9323-e197-4e5d-a37a-de3f52343785",
   "metadata": {},
   "outputs": [],
   "source": [
    "# on a besoin de deux choses pour notre compteur: \n",
    "# d'abord, une liste dédoublonnée de tous les mots de notre corpus.\n",
    "# ensuite, un décompte du nombre d'occurrences pour chaque mot.\n",
    "\n",
    "# un dictionnaire permet d'associer une donnée (une \"clé\") à une autre donnée (dite la \"valeur). \n",
    "# voici un exemple de dictionnaire:\n",
    "couleurs = { \"mieux aimee\": \"amethyste\", \n",
    "             \"moins aimee\": \"bleu marine\", \n",
    "             \"neutre\": \"gris\" }\n",
    "\n",
    "# 1) on crée notre variable contenant les résultats.\n",
    "# ici, on va faire un dictionnaire qui associe nos mots (en \"clé\") au nombre de fois qu'elles sont utilisées.\n",
    "compteur = {}\n",
    "\n",
    "# 2) on génère ensuite une liste dédoublonnée des mots du texte. \n",
    "# pour ça il y a plusieurs méthodes, plus ou moins flemmardes.\n",
    "\n",
    "# méthode 1, qui n'utilise que ce qu'on a déjà vu:\n",
    "mots_uniques = []\n",
    "# on boucle sur tous les mots du corpus.\n",
    "for mot in corpus_mots:\n",
    "    # on vérifie si le mot a déjà été ajouté à mots_uniques. si non, on l'ajoute \n",
    "    if mot not in corpus_mots:\n",
    "        corpus_mots.append(mot)\n",
    "\n",
    "# méthode 2, flemmarde: on utilise la fonction `set()`, qui transforme une `list` en un `set`, \n",
    "# un type de données proche d'une liste, rarement utilisé, mais qui n'autorise pas de doublons.\n",
    "# `set()` retire donc tout seul tous les doublons de la liste\n",
    "mots_uniques = set(corpus_mots)\n",
    "\n",
    "# 3) on complète le compteur \n",
    "\n",
    "# on boucle sur `mots_uniques` pour ajouter toutes les clés à notre compteur: \n",
    "# chaque mot de `mots_uniques` est une clé et sera associé au nombre d'occurrences\n",
    "# de ce mot dans le corpus. on commence par mettre en valeur `0`, \n",
    "# et à chaque nouvelle occurrence du mot, on augmentera la valeur de `1`.\n",
    "for mot in mots_uniques:\n",
    "    compteur[mot] = 0\n",
    "\n",
    "# ensuite, on boucle sur `corpus_mots` (ensemble des mots, avec doublons), et à chaque fois\n",
    "# qu'un mot apparaît, on augmente son décompte de 1.\n",
    "for mot in corpus_mots:\n",
    "    compteur[mot] += 1\n",
    "\n",
    "print(max(list(compteur.values())))"
   ]
  }
 ],
 "metadata": {
  "kernelspec": {
   "display_name": "Python 3 (ipykernel)",
   "language": "python",
   "name": "python3"
  },
  "language_info": {
   "codemirror_mode": {
    "name": "ipython",
    "version": 3
   },
   "file_extension": ".py",
   "mimetype": "text/x-python",
   "name": "python",
   "nbconvert_exporter": "python",
   "pygments_lexer": "ipython3",
   "version": "3.8.10"
  }
 },
 "nbformat": 4,
 "nbformat_minor": 5
}
